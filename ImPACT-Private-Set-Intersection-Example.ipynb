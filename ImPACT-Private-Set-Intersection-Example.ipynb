{
 "cells": [
  {
   "cell_type": "markdown",
   "metadata": {},
   "source": [
    "# Private Set Intersection using Secure Multiparty Computation\n",
    "\n",
    "This example demonstrates using Secure Multiparty Computation (MPC) to compare two secret lists and show which items occur in both lists. This makes it possible, for instance, for two researchers to compare lists of people and to see who occurs on both lists. The useful part is that this process is carried out in a way that keeps the non-matching names secret from the other party.\n",
    "\n",
    "As a concrete example, consider two researchers, Alice and Bob. Alice has a list of three people: Charlie, David, and Edna. Bob has a list of four people: Fred, David, Gretta, and Herbie. Using Private Set Intersection (PSI), Alice and Bob can learn that David is on both lists. Importantly, this is done without Bob learning about Charlie or Edna, and without Alice learning about Fred, Gretta, or Herbie.\n",
    "\n"
   ]
  },
  {
   "cell_type": "markdown",
   "metadata": {},
   "source": [
    "## A Worked Example\n",
    "\n",
    "To begin, we'll need to run two of these notebooks at the same time - one for each party. One instance will be \"Party Zero\", and the other one will be \"Party One\". Party Zero is the one who will actually see the results of the PSI.\n",
    "\n"
   ]
  },
  {
   "cell_type": "markdown",
   "metadata": {},
   "source": [
    "### Step 0: Configuration details\n",
    "\n",
    "Edit the following variables to describe your environment (and that of your collaborator). We'll need to know, for instance, if we are Party 0 (the one that sees the final results) or Party 1 (the other person). We'll also need to know everyone's IP address."
   ]
  },
  {
   "cell_type": "code",
   "execution_count": 24,
   "metadata": {},
   "outputs": [],
   "source": [
    "myPartyNumber = 0\n",
    "\n",
    "myIPaddress = \"18.224.180.121\"\n",
    "otherIPaddress = \"3.16.207.230\"\n",
    "spdzPort = \"5000\"\n"
   ]
  },
  {
   "cell_type": "code",
   "execution_count": 25,
   "metadata": {},
   "outputs": [],
   "source": [
    "%%bash -s $myIPaddress $otherIPaddress\n",
    "echo $1 > $HOME/parties\n",
    "echo $2 >> $HOME/parties"
   ]
  },
  {
   "cell_type": "markdown",
   "metadata": {},
   "source": [
    "### Step 1: Read the names and hash them\n",
    "PSI works with numbers instead of with text. This isn't a problem - we just need to convert our lines of text into numbers in a process called \"hashing\". In the following code block, we'll open a file, read the strings from it, and use a hashing function called \"SHA256\". Running this hashing function can turn strings into some really big numbers - up to eighteen billion billion. We'll shrink those numbers down to a maximum of two billion before we use them for anything."
   ]
  },
  {
   "cell_type": "code",
   "execution_count": 26,
   "metadata": {},
   "outputs": [],
   "source": [
    "import hashlib\n",
    "\n",
    "def makeShortHash (input):\n",
    "    hasher = hashlib.sha256(input.encode('utf-8'))\n",
    "    hashedResults = hasher.digest()\n",
    "    # convert the 32 bytes we got back into a 4 byte (32 bit) integer\n",
    "    # and strip the MSB to force it to be positive.\n",
    "    # odds of a hash collision about 1:2.15 billion.\n",
    "    shorterNum = (  ((hashedResults[0] & 127) << 24) |\n",
    "             (hashedResults[1] << 16) |\n",
    "             (hashedResults[2] << 8) |\n",
    "             (hashedResults[3] ) )\n",
    "    return shorterNum"
   ]
  },
  {
   "cell_type": "code",
   "execution_count": 36,
   "metadata": {},
   "outputs": [
    {
     "name": "stdout",
     "output_type": "stream",
     "text": [
      "('Charlie', 1853993253)\n",
      "('David', 649415712)\n",
      "('Edna', 1901091851)\n"
     ]
    }
   ],
   "source": [
    "filenameToProcess = \"/home/ec2-user/privateSet.txt\"\n",
    "myPrivateSet = []\n",
    "f = open(filenameToProcess, \"r\")\n",
    "for rawInputLine in f:\n",
    "  inputLine = rawInputLine.strip()\n",
    "  if len(inputLine) > 0 :\n",
    "    myPrivateSet.append((inputLine, makeShortHash(inputLine)))\n",
    "    \n",
    "for iterTuple in myPrivateSet:\n",
    "    print (iterTuple)\n",
    "    "
   ]
  },
  {
   "cell_type": "markdown",
   "metadata": {},
   "source": [
    "### Step 2: Count the total number of names for this party\n",
    "\n",
    "The number of names in each party's list doesn't have to be the same (and rarely will be). Count them right quick.\n"
   ]
  },
  {
   "cell_type": "code",
   "execution_count": 28,
   "metadata": {},
   "outputs": [
    {
     "name": "stdout",
     "output_type": "stream",
     "text": [
      "There are 3 names that will be submitted by this party.\n"
     ]
    }
   ],
   "source": [
    "totalSecretEntries = len(myPrivateSet)\n",
    "print (\"There are \" + str(totalSecretEntries) + \" names that will be submitted by this party.\")"
   ]
  },
  {
   "cell_type": "markdown",
   "metadata": {},
   "source": [
    "### Step 3: Gather information about the other party\n",
    "\n",
    "We need to do two things:\n",
    "* Gather the IP address of the other party.\n",
    "* Put the IP address of Party 0, followed by the IP address of Party 1 on the next line, into a file in our home directories named \"parties\".\n",
    "* Find out how many items our colleague has in their list and save it in the variable \"otherPartyNumberOfLines\".\n",
    "\n",
    "No fancy technology for this one. Maybe call them on the phone?\n"
   ]
  },
  {
   "cell_type": "code",
   "execution_count": 29,
   "metadata": {},
   "outputs": [],
   "source": [
    "otherPartyNumberOfLines = 4"
   ]
  },
  {
   "cell_type": "markdown",
   "metadata": {},
   "source": [
    "### Step 4: (Automatically!) create a MPC program to do the comparision\n",
    "\n",
    "Now that we know how many entries each party wants to compare, we have enough information to automatically write and compile a MPC function to do the comparision. We need to write the function on the fly because of how allocating memory works in the SPDZ/2 implementation. Then we will need to compile the program so we can actually run it."
   ]
  },
  {
   "cell_type": "code",
   "execution_count": 30,
   "metadata": {},
   "outputs": [],
   "source": [
    "#import tempfile\n",
    "#f = tempfile.NamedTemporaryFile(delete=False)\n",
    "f = open(\"/home/ec2-user/SPDZ-2/Programs/Source/psi.mpc\",\"w\")\n",
    "\n",
    "\n",
    "preamble = \"\"\"# (C) 2018 University of Bristol. See License.txt\n",
    "# Modified by renci.org for practical use but still\n",
    "# rather heavily influenced by the original\n",
    "# Modified starting from:\n",
    "#Example programs used in the SPDZ tutorial at the TPMPC 2017 workshop in Bristol.\n",
    "\n",
    "from util import if_else\n",
    "program.bit_length = 32\n",
    "\n",
    "\n",
    "def compute_intersection(a, b):\n",
    "        #Naive (as in \"not an index join, but OK\") quadratic private set intersection.\n",
    "\n",
    "        #Returns: secret Array with intersection (padded to len(a)), and\n",
    "        #secret Array of bits indicating whether Party Zero's input matches or not\n",
    "\n",
    "        # get the lengths of input arrays, make the \"left\" array which ever one is actually\n",
    "        # shorter, and set aLen and bLen to be the lengths of the shorter and longer \n",
    "        # arrays, respectively.\n",
    "        aLen = len(a)                                                                               \n",
    "        bLen = len(b)                                                                               \n",
    "                                                                                                    \n",
    "        intersection = Array(aLen, sint)                                                            \n",
    "        is_match_at = Array(aLen, sint)                                                             \n",
    "                                                                                                    \n",
    "        @for_range(aLen)                                                                            \n",
    "        def _(i):                                                                                   \n",
    "                @for_range(bLen)                                                                    \n",
    "                def _(j):                                                                           \n",
    "                        match = a[i] == b[j]                                                        \n",
    "                        is_match_at[i] += match                                                     \n",
    "                        intersection[i] = if_else(match, a[i], intersection[i])                     \n",
    "        return intersection, is_match_at                                                            \n",
    " \n",
    "        \n",
    "def set_intersection(n,p):\n",
    "        a = Array(n, sint)\n",
    "        b = Array(p, sint)\n",
    "\n",
    "\"\"\"\n",
    "    \n",
    "f.write(preamble)\n",
    "for i in range (totalSecretEntries):\n",
    "    f.write(\"        a[\" + str(i) + \"] = sint.get_input_from(0)\\n\")\n",
    "for i in range (otherPartyNumberOfLines):\n",
    "    f.write(\"        b[\" + str(i) + \"] = sint.get_input_from(1)\\n\")\n",
    "\n",
    "\n",
    "postamble = \"\"\"        intersection, is_match_at = compute_intersection(a,b)\n",
    "\n",
    "        print_ln('Printing set intersection (0: not in intersection)')\n",
    "        size = MemValue(sint(0))\n",
    "        total = MemValue(sint(0))\n",
    "\n",
    "        resultLength = min(n,p)\n",
    "        @for_range(resultLength)\n",
    "        def _(i):\n",
    "                size.write(size + is_match_at[i])\n",
    "                total.write(total + intersection[i])\n",
    "                print_str('%s\\\\n', intersection[i].reveal())\n",
    "\n",
    "\"\"\"\n",
    "f.write(postamble)\n",
    "f.write(\"set_intersection(\" + str (totalSecretEntries) + \",\" + str(otherPartyNumberOfLines) +\")\\n\")\n",
    "\n",
    "\n",
    "f.close()"
   ]
  },
  {
   "cell_type": "markdown",
   "metadata": {},
   "source": [
    "### Step 5: Compile the above-generated program\n",
    "The program, with the requisite number of statements to read valuies from each party, has been saved as \"psi.mpc\" in the correct SPDZ directory. Now, compile it to bytecodes."
   ]
  },
  {
   "cell_type": "code",
   "execution_count": 31,
   "metadata": {},
   "outputs": [
    {
     "name": "stdout",
     "output_type": "stream",
     "text": [
      "Compiling program in /home/ec2-user/SPDZ-2/Programs\n",
      "Default bit length: 32\n",
      "Default security parameter: 40\n",
      "Galois length: 40\n",
      "Compiling file /home/ec2-user/SPDZ-2/Programs/Source/psi.mpc\n",
      "Compiling basic block psi-0--0\n",
      "Compiling basic block psi-0-begin-loop-1\n",
      "Compiling basic block psi-0-begin-loop-2\n",
      "Compiling basic block psi-0-end-loop-3\n",
      "Compiling basic block psi-0-end-loop-4\n",
      "Compiling basic block psi-0-begin-loop-5\n",
      "Compiling basic block psi-0-end-loop-6\n",
      "Processing tape psi-0 with 7 blocks\n",
      "Processing basic block psi-0--0, 0/7, 16 instructions\n",
      "Processing basic block psi-0-begin-loop-1, 1/7, 3 instructions\n",
      "Processing basic block psi-0-begin-loop-2, 2/7, 889 instructions\n",
      "Program requires 7 rounds of communication\n",
      "Program requires 65 invocations\n",
      "Processing basic block psi-0-end-loop-3, 3/7, 6 instructions\n",
      "Processing basic block psi-0-end-loop-4, 4/7, 22 instructions\n",
      "Processing basic block psi-0-begin-loop-5, 5/7, 25 instructions\n",
      "Program requires 1 rounds of communication\n",
      "Program requires 1 invocations\n",
      "Processing basic block psi-0-end-loop-6, 6/7, 1 instructions\n",
      "Tape register usage: defaultdict(<function <lambda> at 0x7f2565a4e230>, {'ci': 41, 'sg': 0, 'c': 294, 'cg': 0, 's': 725})\n",
      "modp: 294 clear, 725 secret\n",
      "GF2N: 0 clear, 0 secret\n",
      "Re-allocating...\n",
      "Register(s) [ci0] never used, assigned by 'popint ci0' in <omitted>\n",
      "Register(s) [ci0] never used, assigned by 'popint ci0' in <omitted>\n",
      "Register(s) [ci1] never used, assigned by 'popint ci1' in <omitted>\n",
      "Compile offline data requirements...\n",
      "Tape requires 384 triples in modp, 7 inputs in modp from player 0, 864 bits in modp\n",
      "Tape requires prime bit length 73\n",
      "Tape requires galois bit length 0\n",
      "Program requires: {('modp', 'triple'): 384, ('modp', 'input', 0): 7, ('modp', 'bit'): 864}\n",
      "Cost: 0.257744733581\n",
      "Memory size: defaultdict(<function <lambda> at 0x7f2565a3e668>, {'ci': 8192, 'sg': 8192, 'c': 8192, 'cg': 8192, 's': 8207})\n",
      "Compiling basic block psi-0-memory-usage-7\n",
      "Writing to /home/ec2-user/SPDZ-2/Programs/Schedules/psi.sch\n",
      "Writing to /home/ec2-user/SPDZ-2/Programs/Bytecode/psi-0.bc\n"
     ]
    }
   ],
   "source": [
    "%%bash\n",
    "# change to the SPDZ directory\n",
    "cd $HOME/SPDZ-2\n",
    "# compile the function. DO NOT INCLUDE THE \".mpc\" FILE EXTENSION\n",
    "#./compile.py tripleadd\n",
    "./compile.py psi"
   ]
  },
  {
   "cell_type": "markdown",
   "metadata": {},
   "source": [
    "### Step 6: Run the secure multiparty computation\n",
    "All the preparation has been done. It's time to run the program now and give it some input. First we will iterate through the hashed values we calculated and save them in a temporary file. Then we will run the MPC calculation and capture the output (and any error messages) into the string variables mpcOut and mpcErr."
   ]
  },
  {
   "cell_type": "code",
   "execution_count": 40,
   "metadata": {},
   "outputs": [
    {
     "name": "stdout",
     "output_type": "stream",
     "text": [
      "('Charlie', 1853993253)\n",
      "1853993253\n",
      "('David', 649415712)\n",
      "649415712\n",
      "('Edna', 1901091851)\n",
      "1901091851\n"
     ]
    }
   ],
   "source": [
    "import tempfile\n",
    "tf = tempfile.NamedTemporaryFile(delete=False)   # don't automatically delete on close.\n",
    "for iterTuple in myPrivateSet:\n",
    "    print(iterTuple)\n",
    "    print(iterTuple[1])\n",
    "    tf.write((str(iterTuple[1]) + \"\\n\").encode('utf-8'))\n",
    "tempFileName = tf.name\n",
    "tf.close()  # note: explicitly not deleted yet!"
   ]
  },
  {
   "cell_type": "code",
   "execution_count": 41,
   "metadata": {},
   "outputs": [],
   "source": [
    "%%bash -s $tempFileName $myPartyNumber --out mpcOut --err mpcErr\n",
    "cd $HOME/SPDZ-2\n",
    "cat $1 | $HOME/SPDZ-2/Player-Online.x -ip $HOME/parties $2 psi\n"
   ]
  },
  {
   "cell_type": "markdown",
   "metadata": {},
   "source": [
    "### Step 7: Profit! \n",
    "The computation has run - with any luck, it ran sucessfully. Delete the input file of hashes, then check the output and error strings to see if anything went haywire."
   ]
  },
  {
   "cell_type": "code",
   "execution_count": 34,
   "metadata": {},
   "outputs": [],
   "source": [
    "%%bash -s $tempFileName\n",
    "rm $1"
   ]
  },
  {
   "cell_type": "code",
   "execution_count": 42,
   "metadata": {},
   "outputs": [
    {
     "name": "stdout",
     "output_type": "stream",
     "text": [
      "Output from the secure multiparty computation: Printing set intersection (0: not in intersection)\n",
      "0\n",
      "649415712\n",
      "0\n",
      "\n",
      "\n",
      "Error and debugging messages (even when successful, there will still be some debugging info). Got list of 2 players from file: \n",
      "    18.224.180.121\n",
      "    3.16.207.230\n",
      "ServerSocket is bound on port 5000\n",
      "loading params from: Player-Data/2-128-40/Params-Data\n",
      "Using GF(2^40)\n",
      "MAC Key p = 8390917272024921641965729424982023182\n",
      "MAC Key 2 = 0x38341ebb87\n",
      "Opening file Programs/Schedules/psi.sch\n",
      "Number of threads I will run in parallel = 1\n",
      "Number of program sequences I need to load = 1\n",
      "Loading program 0 from Programs/Bytecode/psi-0.bc\n",
      "psi-0 needs more secret gf2n memory, resizing to 8192\n",
      "psi-0 needs more clear gf2n memory, resizing to 8192\n",
      "psi-0 needs more secret gfp memory, resizing to 8207\n",
      "psi-0 needs more clear gfp memory, resizing to 8192\n",
      "psi-0 needs more clear integer memory, resizing to 8192\n",
      "Cost of first tape:\n",
      "  Type p\n",
      "             0 =        384        Triples à           0\n",
      "             0 =          0        Squares à           0\n",
      "             0 =        864           Bits à           0\n",
      "             0 =          0       Inverses à           0\n",
      "             0 =          0     BitTriples à           0\n",
      "             0 =          0 BitGF2NTriples à           0\n",
      "  Type 2\n",
      "             0 =          0        Triples à           0\n",
      "             0 =          0        Squares à           0\n",
      "             0 =          0           Bits à           0\n",
      "             0 =          0       Inverses à           0\n",
      "             0 =          0     BitTriples à           0\n",
      "             0 =          0 BitGF2NTriples à           0\n",
      "Total cost: 0\n",
      "Waiting for thread 0 to be ready\n",
      "\tI am in thread 0\n",
      "Using single-threaded receiving\n",
      "Setting up send to self socket to 127.0.0.1:5000 with id 0x0\n",
      "Setting up client to 3.16.207.230:5001 with id 0x2\n",
      "As a server, waiting for client with id 0x0 to connect.\n",
      "\tSet up player in thread 0\n",
      "Setting up Data_Files in: Player-Data/2-128-40/\n",
      "done\n",
      "Using indirect communication.\n",
      "Opening file Player-Data/Private-Input-0\n",
      "Opening file Programs/Public-Input/psi\n",
      "Opening file Player-Data/Public-Output-0\n",
      "Opening file Player-Data/Private-Output-0\n",
      "Locking for sync of thread 0\n",
      "Compiler: ./compile.py psi\n",
      "Waiting for all clients to finish\n",
      "\tThread 0 terminating\n",
      "0 : MAC Checking\n",
      "\tMC2.number=0\n",
      "\tMCp.number=783\n",
      "Thread 0 timer: 0.00463523\n",
      "Thread 0 wait timer: 0.000110485\n",
      "Sent 783 elements in 87 rounds\n",
      "gfp Bits reading: 5.1485e-05\n",
      "gfp Triples reading: 3.4983e-05\n",
      "Join timer: 0 0.092432\n",
      "Finish timer: 0.00125337\n",
      "Process timer: 0.00472506\n",
      "Time = 0.0937492 seconds \n",
      "Summed all shares at once\n",
      "Full broadcast\n",
      "Data sent = 13112 bytes in 194 calls,33 bytes per call\n",
      "Num Triples\t= 384 0\n",
      "Num Squares\t= 0 0\n",
      "Num Bits\t= 864 0\n",
      "Num Inverses\t= 0 0\n",
      "Num BitTriples\t= 0 0\n",
      "Num BitGF2NTriples\t= 0 0\n",
      "Num gfp Inputs\t= 3 4\n",
      "Num gf2n Inputs\t= 0 0\n",
      "Total cost of program:\n",
      "  Type p\n",
      "             0 =        384        Triples à           0\n",
      "             0 =          0        Squares à           0\n",
      "             0 =        864           Bits à           0\n",
      "             0 =          0       Inverses à           0\n",
      "             0 =          0     BitTriples à           0\n",
      "             0 =          0 BitGF2NTriples à           0\n",
      "  Type 2\n",
      "             0 =          0        Triples à           0\n",
      "             0 =          0        Squares à           0\n",
      "             0 =          0           Bits à           0\n",
      "             0 =          0       Inverses à           0\n",
      "             0 =          0     BitTriples à           0\n",
      "             0 =          0 BitGF2NTriples à           0\n",
      "Total cost: 0\n",
      "End of prog\n",
      "Command line: /home/ec2-user/SPDZ-2/Player-Online.x -ip /home/ec2-user/parties 0 psi\n",
      "\n"
     ]
    }
   ],
   "source": [
    "\n",
    "print (\"Output from the secure multiparty computation: \" + mpcOut)\n",
    "print(\"\")\n",
    "print(\"Error and debugging messages (even when successful, there will still be some debugging info). \"+ mpcErr)\n"
   ]
  },
  {
   "cell_type": "markdown",
   "metadata": {},
   "source": [
    "### Step 8: Look up the hashed value and see which names matched\n",
    "What just came back was a list of hashed values and some zeros. The zeros mean \"you had something here that didn't match\". In our example above, we have a 0, then 649415712, and then finally another zero. This means \"the first one didn't match, the second one did (and its hashed value is 649415712), and the third one didn't\". It's up to you to decide how to handle this - you could keep track of position numbers (in our example, the second line isn't a zero, so the second name in our list is the matching one) or we could look through the myPrivateSet variable and find the tuple that matches and take it apart. Either way is perfectly acceptable. Since this is a tutorial example, let's do it the easy way and match things up by position number."
   ]
  },
  {
   "cell_type": "code",
   "execution_count": null,
   "metadata": {},
   "outputs": [],
   "source": []
  }
 ],
 "metadata": {
  "kernelspec": {
   "display_name": "Python 3",
   "language": "python",
   "name": "python3"
  },
  "language_info": {
   "codemirror_mode": {
    "name": "ipython",
    "version": 3
   },
   "file_extension": ".py",
   "mimetype": "text/x-python",
   "name": "python",
   "nbconvert_exporter": "python",
   "pygments_lexer": "ipython3",
   "version": "3.6.5"
  }
 },
 "nbformat": 4,
 "nbformat_minor": 2
}

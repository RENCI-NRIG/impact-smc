{
 "cells": [
  {
   "cell_type": "markdown",
   "metadata": {},
   "source": [
    "# Private Set Intersection using Secure Multiparty Computation\n",
    "\n",
    "This example demonstrates using Secure Multiparty Computation (MPC) to compare two secret lists and show which items occur in both lists. This makes it possible, for instance, for two researchers to compare lists of people and to see who occurs on both lists. The useful part is that this process is carried out in a way that keeps the non-matching names secret from the other party.\n",
    "\n",
    "As a concrete example, consider two researchers, Alice and Bob. Alice has a list of three people: Charlie, David, and Edna. Bob has a list of four people: Fred, David, Gretta, and Herbie. Using Private Set Intersection (PSI), Alice and Bob can learn that David is on both lists. Importantly, this is done without Bob learning about Charlie or Edna, and without Alice learning about Fred, Gretta, or Herbie.\n",
    "\n"
   ]
  },
  {
   "cell_type": "markdown",
   "metadata": {},
   "source": [
    "## A Worked Example\n",
    "\n",
    "To begin, we'll need to run two of these notebooks at the same time - one for each party. One instance will be \"Party Zero\", and the other one will be \"Party One\". Party Zero is the one who will actually see the results of the PSI.\n",
    "\n"
   ]
  },
  {
   "cell_type": "markdown",
   "metadata": {},
   "source": [
    "### Step 0: Configuration details\n",
    "\n",
    "Edit the following variables to describe your environment (and that of your collaborator). We'll need to know, for instance, if we are Party 0 (the one that sees the final results) or Party 1 (the other person). We'll also need to know everyone's IP address."
   ]
  },
  {
   "cell_type": "code",
   "execution_count": 1,
   "metadata": {},
   "outputs": [],
   "source": [
    "myPartyNumber = 0\n",
    "\n",
    "myIPaddress = \"18.224.180.121\"\n",
    "otherIPaddress = \"3.16.207.230\"\n",
    "spdzPort = \"5000\"\n"
   ]
  },
  {
   "cell_type": "code",
   "execution_count": null,
   "metadata": {},
   "outputs": [],
   "source": [
    "%%bash -s $myIPaddress $otherIPaddress\n",
    "echo $1 > $HOME/parties\n",
    "echo $2 >> $HOME/parties"
   ]
  },
  {
   "cell_type": "markdown",
   "metadata": {},
   "source": [
    "### Step 1: Read the names and hash them\n",
    "PSI works with numbers instead of with text. This isn't a problem - we just need to convert our lines of text into numbers in a process called \"hashing\". In the following code block, we'll open a file, read the strings from it, and use a hashing function called \"SHA256\". Running this hashing function can turn strings into some really big numbers - up to eighteen billion billion. We'll shrink those numbers down to a maximum of two billion before we use them for anything."
   ]
  },
  {
   "cell_type": "code",
   "execution_count": 2,
   "metadata": {},
   "outputs": [],
   "source": [
    "import hashlib\n",
    "\n",
    "def makeShortHash (input):\n",
    "    hasher = hashlib.sha256(input.encode('utf-8'))\n",
    "    hashedResults = hasher.digest()\n",
    "    # convert the 32 bytes we got back into a 4 byte (32 bit) integer\n",
    "    # and strip the MSB to force it to be positive.\n",
    "    # odds of a hash collision about 1:2.15 billion.\n",
    "    shorterNum = (  ((hashedResults[0] & 127) << 24) |\n",
    "             (hashedResults[1] << 16) |\n",
    "             (hashedResults[2] << 8) |\n",
    "             (hashedResults[3] ) )\n",
    "    return shorterNum"
   ]
  },
  {
   "cell_type": "code",
   "execution_count": 3,
   "metadata": {},
   "outputs": [
    {
     "name": "stdout",
     "output_type": "stream",
     "text": [
      "('Charlie', 1853993253)\n",
      "('David', 649415712)\n",
      "('Edna', 1901091851)\n"
     ]
    }
   ],
   "source": [
    "filenameToProcess = \"/home/ec2-user/privateSet.txt\"\n",
    "myPrivateSet = []\n",
    "f = open(filenameToProcess, \"r\")\n",
    "for rawInputLine in f:\n",
    "  inputLine = rawInputLine.strip()\n",
    "  if len(inputLine) > 0 :\n",
    "    myPrivateSet.append((inputLine, makeShortHash(inputLine)))\n",
    "    \n",
    "for iterTuple in myPrivateSet:\n",
    "    print (iterTuple)\n",
    "    "
   ]
  },
  {
   "cell_type": "markdown",
   "metadata": {},
   "source": [
    "### Step 2: Count the total number of names for this party\n",
    "\n",
    "The number of names in each party's list doesn't have to be the same (and rarely will be). Count them right quick.\n"
   ]
  },
  {
   "cell_type": "code",
   "execution_count": 4,
   "metadata": {},
   "outputs": [
    {
     "name": "stdout",
     "output_type": "stream",
     "text": [
      "There are 3 names that will be submitted by this party.\n"
     ]
    }
   ],
   "source": [
    "totalSecretEntries = len(myPrivateSet)\n",
    "print (\"There are \" + str(totalSecretEntries) + \" names that will be submitted by this party.\")"
   ]
  },
  {
   "cell_type": "markdown",
   "metadata": {},
   "source": [
    "### Step 3: Gather information about the other party\n",
    "\n",
    "We need to do two things:\n",
    "* Gather the IP address of the other party.\n",
    "* Put the IP address of Party 0, followed by the IP address of Party 1 on the next line, into a file in our home directories named \"parties\".\n",
    "* Find out how many items our colleague has in their list and save it in the variable \"otherPartyNumberOfLines\".\n",
    "\n",
    "No fancy technology for this one. Maybe call them on the phone?\n"
   ]
  },
  {
   "cell_type": "code",
   "execution_count": 5,
   "metadata": {},
   "outputs": [],
   "source": [
    "otherPartyNumberOfLines = 4"
   ]
  },
  {
   "cell_type": "markdown",
   "metadata": {},
   "source": [
    "### Step 4: (Automatically!) create a MPC program to do the comparision\n",
    "\n",
    "Now that we know how many entries each party wants to compare, we have enough information to automatically write and compile a MPC function to do the comparision. We need to write the function on the fly because of how allocating memory works in the SPDZ/2 implementation. Then we will need to compile the program so we can actually run it."
   ]
  },
  {
   "cell_type": "code",
   "execution_count": 6,
   "metadata": {},
   "outputs": [
    {
     "name": "stdout",
     "output_type": "stream",
     "text": [
      "tempFileName = /tmp/tmpyhxxvh0c\n"
     ]
    }
   ],
   "source": [
    "#import tempfile\n",
    "#f = tempfile.NamedTemporaryFile(delete=False)\n",
    "f = open(\"/home/ec2-user/SPDZ-2/Programs/Source/psi.mpc\",\"w\")\n",
    "\n",
    "\n",
    "preamble = \"\"\"# (C) 2018 University of Bristol. See License.txt\n",
    "# Modified by renci.org for practical use but still\n",
    "# rather heavily influenced by the original\n",
    "# Modified starting from:\n",
    "#Example programs used in the SPDZ tutorial at the TPMPC 2017 workshop in Bristol.\n",
    "\n",
    "from util import if_else\n",
    "program.bit_length = 32\n",
    "\n",
    "\n",
    "def compute_intersection(aa, bb):\n",
    "        #Naive (as in \"not an index join, but OK\") quadratic private set intersection.\n",
    "\n",
    "        #Returns: secret Array with intersection (padded to len(a)), and\n",
    "        #secret Array of bits indicating whether Party Zero's input matches or not\n",
    "\n",
    "        # get the lengths of input arrays, make the \"left\" array which ever one is actually\n",
    "        # shorter, and set aLen and bLen to be the lengths of the shorter and longer \n",
    "        # arrays, respectively.\n",
    "        n = len(aa)\n",
    "        p = len(bb)\n",
    "        if (n < p):\n",
    "                a = aa\n",
    "                b = bb\n",
    "                aLen = n\n",
    "                bLen = p\n",
    "        else:\n",
    "                a = bb\n",
    "                b = aa\n",
    "                aLen = p\n",
    "                bLen = n\n",
    "\n",
    "        intersection = Array(aLen, sint)\n",
    "        is_match_at = Array(aLen, sint)\n",
    "\n",
    "        @for_range(aLen)\n",
    "        def _(i):\n",
    "                @for_range(bLen)\n",
    "                def _(j):\n",
    "                        match = a[i] == b[j]\n",
    "                        is_match_at[i] += match\n",
    "                        intersection[i] = if_else(match, a[i], intersection[i])\n",
    "        return intersection, is_match_at\n",
    "        \n",
    "def set_intersection(n,p):\n",
    "        a = Array(n, sint)\n",
    "        b = Array(p, sint)\n",
    "\n",
    "\"\"\"\n",
    "    \n",
    "f.write(preamble.encode('utf-8'))\n",
    "for i in range (totalSecretEntries):\n",
    "    f.write(str(\"        a[\" + str(i) + \"] = sint.get_input_from(0)\\n\").encode('utf-8'))\n",
    "for i in range (otherPartyNumberOfLines):\n",
    "    f.write(str(\"        b[\" + str(i) + \"] = sint.get_input_from(0)\\n\").encode('utf-8'))\n",
    "\n",
    "\n",
    "postamble = \"\"\"        intersection, is_match_at = compute_intersection(a,b)\n",
    "\n",
    "        print_ln('Printing set intersection (0: not in intersection)')\n",
    "        size = MemValue(sint(0))\n",
    "        total = MemValue(sint(0))\n",
    "\n",
    "        resultLength = min(n,p)\n",
    "        @for_range(resultLength)\n",
    "        def _(i):\n",
    "                size.write(size + is_match_at[i])\n",
    "                total.write(total + intersection[i])\n",
    "                print_str('%s\\n', intersection[i].reveal())\n",
    "\n",
    "\"\"\"\n",
    "f.write(postamble.encode(\"utf-8\")\n",
    "f.write(str(\"set_intersection(\" + str (totalSecretEntries) + \",\" + str(otherPartyNumberOfLines) +\")\\n\").encode(\"utf-8\"))\n",
    "\n",
    "\n",
    "\n",
    "f.close()"
   ]
  },
  {
   "cell_type": "markdown",
   "metadata": {},
   "source": [
    "### Step 5: Compile the above-generated program\n",
    "The program, with the requisite number of statements to read valuies from each party, has been saved as \"psi.mpc\" in the correct SPDZ directory. Now, compile it to bytecodes."
   ]
  },
  {
   "cell_type": "code",
   "execution_count": null,
   "metadata": {},
   "outputs": [],
   "source": [
    "%%bash\n",
    "# change to the SPDZ directory\n",
    "cd $HOME/SPDZ-2\n",
    "# compile the function. DO NOT INCLUDE THE \".mpc\" FILE EXTENSION\n",
    "#./compile.py tripleadd\n",
    "./compile.py psi"
   ]
  },
  {
   "cell_type": "markdown",
   "metadata": {},
   "source": [
    "### Step 6: Run the secure multiparty computation\n",
    "All the preparation has been done. It's time to run the program now and give it some input. First we will iterate through the hashed values we calculated and save them in a temporary file. Then we will run the MPC calculation and capture the output (and any error messages) into the string variables mpcOut and mpcErr."
   ]
  },
  {
   "cell_type": "code",
   "execution_count": null,
   "metadata": {},
   "outputs": [],
   "source": [
    "import tempfile\n",
    "tf = tempfile.NamedTemporaryFile(delete=False)   # don't automatically delete on close.\n",
    "for iterTuple in myPrivateSet:\n",
    "    tf.write(str(str(iterTuple(1)) + \"\\n\").encode(\"utf-8\"))\n",
    "tempFileName = tf.name()\n",
    "tf.close()  # note: explicitly not deleted yet!"
   ]
  },
  {
   "cell_type": "code",
   "execution_count": null,
   "metadata": {},
   "outputs": [],
   "source": [
    "%%bash -s $tempFileName $myPartyNumber --out mpcOut --err mpcErr\n",
    "cd $HOME/SPDZ-2\n",
    "cat $1 | $HOME/SPDZ-2/Player-Online.x -ip $HOME/parties $2 psi\n"
   ]
  },
  {
   "cell_type": "markdown",
   "metadata": {},
   "source": [
    "### Step 7: Profit! \n",
    "The computation has run - with any luck, it ran sucessfully. Delete the input file of hashes, then check the output and error strings to see if anything went haywire."
   ]
  },
  {
   "cell_type": "code",
   "execution_count": null,
   "metadata": {},
   "outputs": [],
   "source": [
    "%%bash -s $tempFileName\n",
    "rm $1"
   ]
  },
  {
   "cell_type": "code",
   "execution_count": null,
   "metadata": {},
   "outputs": [],
   "source": [
    "\n",
    "print (\"Output from the secure multiparty computation: \" + mpcOut)\n",
    "print(\"\")\n",
    "print(\"Error and debugging messages (even when successful, there will still be some debugging info). \"+ mpcErr)\n"
   ]
  }
 ],
 "metadata": {
  "kernelspec": {
   "display_name": "Python 3",
   "language": "python",
   "name": "python3"
  },
  "language_info": {
   "codemirror_mode": {
    "name": "ipython",
    "version": 3
   },
   "file_extension": ".py",
   "mimetype": "text/x-python",
   "name": "python",
   "nbconvert_exporter": "python",
   "pygments_lexer": "ipython3",
   "version": "3.6.5"
  }
 },
 "nbformat": 4,
 "nbformat_minor": 2
}
